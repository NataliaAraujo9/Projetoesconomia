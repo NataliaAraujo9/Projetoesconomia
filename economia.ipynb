{
  "nbformat": 4,
  "nbformat_minor": 0,
  "metadata": {
    "colab": {
      "name": "economia.ipynb",
      "provenance": [],
      "collapsed_sections": []
    },
    "kernelspec": {
      "name": "python3",
      "display_name": "Python 3"
    }
  },
  "cells": [
    {
      "cell_type": "markdown",
      "metadata": {
        "id": "HZWzuDaW4nh_",
        "colab_type": "text"
      },
      "source": [
        "**PROJETO - ECONOMIA**\n",
        "\n",
        "**TEMA:**\n",
        "\n",
        "Objetivos da ONU a ser aplicado:\n",
        "\n",
        "Disciplina: Introdução a python \n",
        "\n",
        "Docente: Carlos Arthur Guimarães\n",
        "\n",
        "Discentes: \n",
        "*   Natália Maniçoba de Araújo\n",
        "*   (coloque seu nome)\n",
        "\n",
        "\n",
        "\n"
      ]
    },
    {
      "cell_type": "code",
      "metadata": {
        "id": "O5vpq4Dh5Qbj",
        "colab_type": "code",
        "colab": {}
      },
      "source": [
        "import numpy as np\n",
        "import pandas as pd\n"
      ],
      "execution_count": 0,
      "outputs": []
    }
  ]
}